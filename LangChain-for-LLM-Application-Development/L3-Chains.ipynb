{
 "cells": [
  {
   "cell_type": "markdown",
   "id": "9fee959e",
   "metadata": {},
   "source": [
    "# Chains in LangChain\n",
    "\n",
    "## Outline\n",
    "\n",
    "* LLMChain\n",
    "* Sequential Chains\n",
    "  * SimpleSequentialChain\n",
    "  * SequentialChain\n",
    "* Router Chain"
   ]
  },
  {
   "cell_type": "markdown",
   "id": "a49d1db8",
   "metadata": {},
   "source": [
    "체인은 일반적으로 LLM(Large Language Model)과 프롬프트를 결합하며, 이런 빌딩 블록들을 여러 개 함께 사용하여 텍스트나 다른 데이터에 대해 일련의 작업을 수행할 수 있습니다. "
   ]
  },
  {
   "cell_type": "code",
   "execution_count": 1,
   "id": "f415c553",
   "metadata": {},
   "outputs": [],
   "source": [
    "import warnings\n",
    "warnings.filterwarnings('ignore')"
   ]
  },
  {
   "cell_type": "code",
   "execution_count": 2,
   "id": "0a8e67a4",
   "metadata": {},
   "outputs": [],
   "source": [
    "import os\n",
    "\n",
    "from dotenv import load_dotenv, find_dotenv\n",
    "_ = load_dotenv(find_dotenv()) # read local .env file"
   ]
  },
  {
   "cell_type": "code",
   "execution_count": 3,
   "id": "1eec321f",
   "metadata": {},
   "outputs": [],
   "source": [
    "#!pip install pandas"
   ]
  },
  {
   "cell_type": "code",
   "execution_count": 4,
   "id": "44195cd3",
   "metadata": {},
   "outputs": [],
   "source": [
    "import pandas as pd\n",
    "df = pd.read_csv('Data.csv')"
   ]
  },
  {
   "cell_type": "markdown",
   "id": "c7816c3d",
   "metadata": {},
   "source": [
    "이전과 같이 환경 변수를 로드할 것입니다.\n",
    "\n",
    "그런 다음 우리가 사용할 데이터도 로드할 것입니다. 이 체인들의 힘 중 하나는 한 번에 많은 입력을 처리할 수 있다는 것입니다. 여기서 우리는 판다스 DataFrame을 로드합니다."
   ]
  },
  {
   "cell_type": "code",
   "execution_count": 5,
   "id": "99095890",
   "metadata": {},
   "outputs": [
    {
     "data": {
      "text/html": [
       "<div>\n",
       "<style scoped>\n",
       "    .dataframe tbody tr th:only-of-type {\n",
       "        vertical-align: middle;\n",
       "    }\n",
       "\n",
       "    .dataframe tbody tr th {\n",
       "        vertical-align: top;\n",
       "    }\n",
       "\n",
       "    .dataframe thead th {\n",
       "        text-align: right;\n",
       "    }\n",
       "</style>\n",
       "<table border=\"1\" class=\"dataframe\">\n",
       "  <thead>\n",
       "    <tr style=\"text-align: right;\">\n",
       "      <th></th>\n",
       "      <th>Product</th>\n",
       "      <th>Review</th>\n",
       "    </tr>\n",
       "  </thead>\n",
       "  <tbody>\n",
       "    <tr>\n",
       "      <th>0</th>\n",
       "      <td>Queen Size Sheet Set</td>\n",
       "      <td>I ordered a king size set. My only criticism w...</td>\n",
       "    </tr>\n",
       "    <tr>\n",
       "      <th>1</th>\n",
       "      <td>Waterproof Phone Pouch</td>\n",
       "      <td>I loved the waterproof sac, although the openi...</td>\n",
       "    </tr>\n",
       "    <tr>\n",
       "      <th>2</th>\n",
       "      <td>Luxury Air Mattress</td>\n",
       "      <td>This mattress had a small hole in the top of i...</td>\n",
       "    </tr>\n",
       "    <tr>\n",
       "      <th>3</th>\n",
       "      <td>Pillows Insert</td>\n",
       "      <td>This is the best throw pillow fillers on Amazo...</td>\n",
       "    </tr>\n",
       "    <tr>\n",
       "      <th>4</th>\n",
       "      <td>Milk Frother Handheld\\n</td>\n",
       "      <td>I loved this product. But they only seem to l...</td>\n",
       "    </tr>\n",
       "  </tbody>\n",
       "</table>\n",
       "</div>"
      ],
      "text/plain": [
       "                   Product                                             Review\n",
       "0     Queen Size Sheet Set  I ordered a king size set. My only criticism w...\n",
       "1   Waterproof Phone Pouch  I loved the waterproof sac, although the openi...\n",
       "2      Luxury Air Mattress  This mattress had a small hole in the top of i...\n",
       "3           Pillows Insert  This is the best throw pillow fillers on Amazo...\n",
       "4  Milk Frother Handheld\\n   I loved this product. But they only seem to l..."
      ]
     },
     "execution_count": 5,
     "metadata": {},
     "output_type": "execute_result"
    }
   ],
   "source": [
    "df.head()"
   ]
  },
  {
   "cell_type": "markdown",
   "id": "cb17aa60",
   "metadata": {},
   "source": [
    "판다스 DataFrame은 여러 다른 데이터 요소를 포함하는 데이터 구조입니다. 판다스에 익숙하지 않아도 걱정하지 마세요. 주요한 점은 나중에 사용할 수 있도록 어떤 데이터를 로딩하는 것입니다. 그래서 이 판다스 DataFrame 안을 살펴보면, 제품 열과 리뷰 열이 있는 것을 볼 수 있습니다. 그리고 각각의 행들은 우리가 체인들로 전달하고 시작할 수 있는 다른 데이터 포인트들입니다."
   ]
  },
  {
   "cell_type": "markdown",
   "id": "62089df8",
   "metadata": {},
   "source": [
    "## LLMChain"
   ]
  },
  {
   "cell_type": "code",
   "execution_count": 6,
   "id": "d5fa41cc",
   "metadata": {},
   "outputs": [],
   "source": [
    "from langchain.chat_models import ChatOpenAI\n",
    "from langchain.prompts import ChatPromptTemplate\n",
    "from langchain.chains import LLMChain"
   ]
  },
  {
   "cell_type": "markdown",
   "id": "39b44083",
   "metadata": {},
   "source": [
    "우리가 처음으로 다루게 될 체인은 LLM 체인입니다. 이것은 단순하지만 꽤 강력한 체인으로, 앞으로 소개될 많은 체인들의 기반이 됩니다."
   ]
  },
  {
   "cell_type": "code",
   "execution_count": 7,
   "id": "f12434e2",
   "metadata": {},
   "outputs": [],
   "source": [
    "llm = ChatOpenAI(temperature=0.9)\n"
   ]
  },
  {
   "cell_type": "markdown",
   "id": "c0f03355",
   "metadata": {},
   "source": [
    "그래서, 우리는 세 가지 서로 다른 것들을 가져올 예정입니다. OpenAI 모델, 즉 LLM을 가져옵니다. 그런 다음 채팅 프롬프트 템플릿을 가져옵니다 - 이것이 바로 프롬프트 입니다."
   ]
  },
  {
   "cell_type": "code",
   "execution_count": 8,
   "id": "e236f8ed",
   "metadata": {},
   "outputs": [],
   "source": [
    "prompt = ChatPromptTemplate.from_template(\n",
    "    \"What is the best name to describe \\\n",
    "    a company that makes {product}?\"\n",
    ")"
   ]
  },
  {
   "cell_type": "markdown",
   "id": "857b9a59",
   "metadata": {},
   "source": [
    "그 후 LLM 체인을 가져옵니다.\n",
    "\n",
    "그래서 먼저, 우리가 사용하려는 언어 모델 초기화 작업부터 시작합니다.\n",
    "따라서 재미있는 설명문 생성 가능성이 높아지도록 오픈AI와 함께 고온도 설정으로 채팅 모델 초기화를 진행하겠습니다."
   ]
  },
  {
   "cell_type": "markdown",
   "id": "47236026",
   "metadata": {},
   "source": [
    "이제 프롬프트를 초기화하겠습니다. 이 프롬프트는 '제품'이라는 변수를 가져와서 LLM에 그 제품을 만드는 회사에 가장 적합한 이름은 무엇인지 생성하도록 요청합니다. 마지막으로, 이 두 가지를 체인으로 결합합니다.\n",
    "\n",
    "그래서, 이것을 우리가 LLM 체인이라고 부릅니다."
   ]
  },
  {
   "cell_type": "markdown",
   "id": "96b238de",
   "metadata": {},
   "source": [
    "매우 간단합니다. 그냥 LLM과 프롬프트의 결합입니다. 하지만 이제 이 체인은 프롬프트를 통해 LLM로 순차적으로 실행할 수 있게 해줍니다. 따라서 제품명이 queen-size-sheet-set라면 chain.run을 사용하여 체인을 실행할 수 있습니다."
   ]
  },
  {
   "cell_type": "code",
   "execution_count": 9,
   "id": "67a0643a",
   "metadata": {},
   "outputs": [],
   "source": [
    "\n",
    "chain = LLMChain(llm=llm, prompt=prompt)"
   ]
  },
  {
   "cell_type": "code",
   "execution_count": 10,
   "id": "f8ff4518",
   "metadata": {},
   "outputs": [
    {
     "data": {
      "text/plain": [
       "'Royal Beddings.'"
      ]
     },
     "execution_count": 10,
     "metadata": {},
     "output_type": "execute_result"
    }
   ],
   "source": [
    "product = \"Queen Size Sheet Set\"\n",
    "chain.run(product)"
   ]
  },
  {
   "cell_type": "markdown",
   "id": "5b4c83cc",
   "metadata": {},
   "source": []
  },
  {
   "cell_type": "markdown",
   "id": "73d1bba1",
   "metadata": {},
   "source": [
    "그러면 이것은 백엔드에서 프롬프트 형식을 지정한 후 전체 프롬프트를 LLM로 전달합니다. 그래서 우리는 Royal Bettings라는 가상 회사의 이름을 반환받았다는 것을 알 수 있습니다."
   ]
  },
  {
   "cell_type": "markdown",
   "id": "aa3ce9a8",
   "metadata": {},
   "source": [
    "## SimpleSequentialChain"
   ]
  },
  {
   "cell_type": "code",
   "execution_count": 11,
   "id": "7aa1dd6c",
   "metadata": {},
   "outputs": [],
   "source": [
    "from langchain.chains import SimpleSequentialChain"
   ]
  },
  {
   "cell_type": "markdown",
   "id": "391b0574",
   "metadata": {},
   "source": [
    "순차 체인은 하나 뒤에 하나를 연결하여 실행하는 일련의 체인입니다.   \n",
    "시작하려면 간단한 순차 체인을 가져와야 합니다. 이것은 하위 체인들이 단일 입력만 기대하고 단일 출력만 반환할 때 잘 작동합니다."
   ]
  },
  {
   "cell_type": "code",
   "execution_count": 12,
   "id": "e89863c5",
   "metadata": {},
   "outputs": [],
   "source": [
    "llm = ChatOpenAI(temperature=0.9)\n",
    "\n",
    "# prompt template 1\n",
    "first_prompt = ChatPromptTemplate.from_template(\n",
    "    \"What is the best name to describe \\\n",
    "    a company that makes {product}?\"\n",
    ")\n",
    "\n",
    "# Chain 1\n",
    "chain_one = LLMChain(llm=llm, prompt=first_prompt)"
   ]
  },
  {
   "cell_type": "markdown",
   "id": "c9dd7864",
   "metadata": {},
   "source": [
    "순차 체인은 하나 뒤에 하나를 연결하여 실행하는 일련의 체인입니다. 시작하려면 간단한 순차 체인을 가져와야 합니다. 이것은 하위 체인들이 단일 입력만 기대하고 단일 출력만 반환할 때 잘 작동합니다."
   ]
  },
  {
   "cell_type": "code",
   "execution_count": 13,
   "id": "4ef81b1e",
   "metadata": {},
   "outputs": [],
   "source": [
    "\n",
    "# prompt template 2\n",
    "second_prompt = ChatPromptTemplate.from_template(\n",
    "    \"Write a 20 words description for the following \\\n",
    "    company:{company_name}\"\n",
    ")\n",
    "# chain 2\n",
    "chain_two = LLMChain(llm=llm, prompt=second_prompt)"
   ]
  },
  {
   "cell_type": "markdown",
   "id": "c71d6adf",
   "metadata": {},
   "source": [
    "그런 다음 두 번째 체인을 만듭니다.\n",
    "이 두 번째 체인에서는 회사 이름을 가져와서 그 회사에 대한 20단어 설명문을 출력할 것입니다.\n",
    "\n",
    "따라서 이러한 체인들은 서로 연속적으로 실행되어야 할 가능성이 있는데, 여기에서는 처음의 결과(회사 이름)가 두 번째의 입력으로 전달됩니다. 간단한 순차적 연결로 이를 쉽게 수행할 수 있습니다. 여기에 우리가 위에서 설명한 두 개의 연결체가 있습니다.\n",
    "우리는 이 전체적으로 간단한 연결체를 호출합니다."
   ]
  },
  {
   "cell_type": "code",
   "execution_count": 14,
   "id": "937c2c61",
   "metadata": {},
   "outputs": [],
   "source": [
    "overall_simple_chain = SimpleSequentialChain(chains=[chain_one, chain_two],\n",
    "                                             verbose=True\n",
    "                                            )"
   ]
  },
  {
   "cell_type": "code",
   "execution_count": 15,
   "id": "7e9e8235",
   "metadata": {},
   "outputs": [
    {
     "name": "stdout",
     "output_type": "stream",
     "text": [
      "\n",
      "\n",
      "\u001b[1m> Entering new SimpleSequentialChain chain...\u001b[0m\n",
      "\u001b[36;1m\u001b[1;3mRoyal Rest Linens\u001b[0m\n",
      "\u001b[33;1m\u001b[1;3mRoyal Rest Linens supplies high-quality, luxurious bedding and linens to hotels, resorts, and residential clients. Exceptional comfort and durability guaranteed.\u001b[0m\n",
      "\n",
      "\u001b[1m> Finished chain.\u001b[0m\n"
     ]
    },
    {
     "data": {
      "text/plain": [
       "'Royal Rest Linens supplies high-quality, luxurious bedding and linens to hotels, resorts, and residential clients. Exceptional comfort and durability guaranteed.'"
      ]
     },
     "execution_count": 15,
     "metadata": {},
     "output_type": "execute_result"
    }
   ],
   "source": [
    "overall_simple_chain.run(product)"
   ]
  },
  {
   "cell_type": "markdown",
   "id": "bc4584ad",
   "metadata": {},
   "source": [
    "그런 다음 두 번째 체인을 만듭니다.\n",
    "이 두 번째 체인에서는 회사 이름을 가져와서 그 회사에 대한 20단어 설명문을 출력할 것입니다.\n",
    "\n",
    "따라서 이러한 체인들은 서로 연속적으로 실행되어야 할 가능성이 있는데, 여기에서는 처음의 결과(회사 이름)가 두 번째의 입력으로 전달됩니다. 간단한 순차적 연결로 이를 쉽게 수행할 수 있습니다. 여기에 우리가 위에서 설명한 두 개의 연결체가 있습니다.\n",
    "우리는 이 전체적으로 간단한 연결체를 호출합니다."
   ]
  },
  {
   "cell_type": "markdown",
   "id": "7b03d7d4",
   "metadata": {},
   "source": [
    "하지만 여러 개의 입력 혹은 여러 개의 출력들 중 언제든지 선택해야 할 때엔 어떻게 해야 할까요?\n",
    "우리는 정규 순착적 연결체를 사용하여 이를 수행할 수 있습니다."
   ]
  },
  {
   "cell_type": "markdown",
   "id": "3636f2ca",
   "metadata": {},
   "source": [
    "## SequentialChain"
   ]
  },
  {
   "cell_type": "code",
   "execution_count": 16,
   "id": "46eea19c",
   "metadata": {},
   "outputs": [],
   "source": [
    "from langchain.chains import SequentialChain"
   ]
  },
  {
   "cell_type": "markdown",
   "id": "fae7f4f0",
   "metadata": {},
   "source": [
    "하지만 여러 개의 입력 혹은 여러 개의 출력들 중 언제든지 선택해야 할 때엔 어떻게 해야 할까요?\n",
    "우리는 정규 순착적 연결체를 사용하여 이를 수행할 수 있습니다."
   ]
  },
  {
   "cell_type": "code",
   "execution_count": 17,
   "id": "beb45108",
   "metadata": {},
   "outputs": [],
   "source": [
    "llm = ChatOpenAI(temperature=0.9)\n",
    "\n",
    "# prompt template 1: translate to english\n",
    "first_prompt = ChatPromptTemplate.from_template(\n",
    "    \"Translate the following review to english:\"\n",
    "    \"\\n\\n{Review}\"\n",
    ")\n",
    "# chain 1: input= Review and output= English_Review\n",
    "chain_one = LLMChain(llm=llm, prompt=first_prompt, \n",
    "                     output_key=\"English_Review\"\n",
    "                    )\n"
   ]
  },
  {
   "cell_type": "markdown",
   "id": "2fe70da2",
   "metadata": {},
   "source": [
    "그래서 첫 번째 연결체에서는, 우리는\n",
    "리뷰를 가져와 영어로 번역합니다."
   ]
  },
  {
   "cell_type": "code",
   "execution_count": 18,
   "id": "d659523e",
   "metadata": {},
   "outputs": [],
   "source": [
    "second_prompt = ChatPromptTemplate.from_template(\n",
    "    \"Can you summarize the following review in 1 sentence:\"\n",
    "    \"\\n\\n{English_Review}\"\n",
    ")\n",
    "# chain 2: input= English_Review and output= summary\n",
    "chain_two = LLMChain(llm=llm, prompt=second_prompt, \n",
    "                     output_key=\"summary\"\n",
    "                    )\n"
   ]
  },
  {
   "cell_type": "markdown",
   "id": "deb591f2",
   "metadata": {},
   "source": [
    "두 번째 연결체에서는, 우리는 그 리뷰의 요약문을 한 문장으로 만듭니다.\n",
    "이것은 앞서 생성된 영어 리뷰를 사용합니다."
   ]
  },
  {
   "cell_type": "code",
   "execution_count": 19,
   "id": "e302f53a",
   "metadata": {},
   "outputs": [],
   "source": [
    "# prompt template 3: translate to english\n",
    "third_prompt = ChatPromptTemplate.from_template(\n",
    "    \"What language is the following review:\\n\\n{Review}\"\n",
    ")\n",
    "# chain 3: input= Review and output= language\n",
    "chain_three = LLMChain(llm=llm, prompt=third_prompt,\n",
    "                       output_key=\"language\"\n",
    "                      )\n"
   ]
  },
  {
   "cell_type": "markdown",
   "id": "14f83a7d",
   "metadata": {},
   "source": [
    "세 번째 연결체는 원래의 리뷰 언어가 무엇인지 감지하는 작업을 합니다.\n",
    "따라서 여기에서 이것은 원래의 리뷰에 의해 사용되며,\n",
    "마침내 네 번째 연결체는 여러 개의 입력을 받아 들일 것입니다.\n",
    "딱히 이것은 요약 변수,\n",
    "우리가 두 번째 연결체로 계산한 변수,언어 변수를 받아들입니다."
   ]
  },
  {
   "cell_type": "markdown",
   "id": "798d5d4a",
   "metadata": {},
   "source": [
    "요약문에 대한 후속 응답을 지정된 언어로 요청할 것입니다.\n",
    "\n",
    "이 모든 하위 체인들에 대해 주의 깊게 알아야 할 중요한 점은 입력 키와 출력 키가 매우 정확해야 한다는 것입니다. 여기서, 우리는 리뷰를 가져옵니다. 이것은 시작할 때 전달될 변수입니다.\n",
    "\n",
    "우리는 출력 키를 명시적으로 영어 리뷰로 설정할 수 있습니다. 이것은 다음 프롬프트에서 사용되며, 아래에서 영어 리뷰라는 같은 변수 이름으로 가져옵니다.\n",
    "\n",
    "그 체인의 출력 키를 요약으로 설정하면, 마지막 체인에서 사용되는 것을 볼 수 있습니다.\n",
    "세 번째 프롬프트는 원래의 변수인 리뷰를 가져와서,\n",
    "언어라고 출력합니다,\n",
    "이것 또한 최종 프롬프트에서 다시 사용됩니다.\n",
    "이러한 많은 입력과 출력들 때문에 이러한 변수 이름들이 정확하게 일치하는지 확인하는 것이 매우 중요합니다. 만약 당신이 어떤 키 에러를 받으면, 반드시\n",
    "그들이 정렬되었는지 확인해야 합니다."
   ]
  },
  {
   "cell_type": "code",
   "execution_count": 20,
   "id": "e41274dd",
   "metadata": {},
   "outputs": [],
   "source": [
    "\n",
    "# prompt template 4: follow up message\n",
    "fourth_prompt = ChatPromptTemplate.from_template(\n",
    "    \"Write a follow up response to the following \"\n",
    "    \"summary in the specified language:\"\n",
    "    \"\\n\\nSummary: {summary}\\n\\nLanguage: {language}\"\n",
    ")\n",
    "# chain 4: input= summary, language and output= followup_message\n",
    "chain_four = LLMChain(llm=llm, prompt=fourth_prompt,\n",
    "                      output_key=\"followup_message\"\n",
    "                     )\n"
   ]
  },
  {
   "cell_type": "code",
   "execution_count": 21,
   "id": "75488496",
   "metadata": {},
   "outputs": [],
   "source": [
    "# overall_chain: input= Review \n",
    "# and output= English_Review,summary, followup_message\n",
    "overall_chain = SequentialChain(\n",
    "    chains=[chain_one, chain_two, chain_three, chain_four],\n",
    "    input_variables=[\"Review\"],\n",
    "    output_variables=[\"English_Review\", \"summary\",\"followup_message\"],\n",
    "    verbose=True\n",
    ")"
   ]
  },
  {
   "cell_type": "code",
   "execution_count": 22,
   "id": "a75e7c6b",
   "metadata": {},
   "outputs": [
    {
     "name": "stdout",
     "output_type": "stream",
     "text": [
      "\n",
      "\n",
      "\u001b[1m> Entering new SequentialChain chain...\u001b[0m\n",
      "\n",
      "\u001b[1m> Finished chain.\u001b[0m\n"
     ]
    },
    {
     "data": {
      "text/plain": [
       "{'Review': \"Je trouve le goût médiocre. La mousse ne tient pas, c'est bizarre. J'achète les mêmes dans le commerce et le goût est bien meilleur...\\nVieux lot ou contrefaçon !?\",\n",
       " 'English_Review': \"I find the taste mediocre. The foam doesn't hold, it's weird. I buy the same ones in the store and the taste is much better... Old stock or counterfeit!?\",\n",
       " 'summary': \"The reviewer found the taste of the product mediocre and noticed that the foam doesn't hold, questioning if it is old stock or counterfeit.\",\n",
       " 'followup_message': \"Le critique a trouvé le goût du produit médiocre et a remarqué que la mousse ne tient pas, se demandant s'il s'agit d'un vieux stock ou d'une contrefaçon. Il recommande de faire attention avant d'acheter ce produit et de vérifier la date d'expiration.\"}"
      ]
     },
     "execution_count": 22,
     "metadata": {},
     "output_type": "execute_result"
    }
   ],
   "source": [
    "review = df.Review[5]\n",
    "overall_chain(review)"
   ]
  },
  {
   "cell_type": "markdown",
   "id": "12624c60",
   "metadata": {},
   "source": [
    "간단한 순차적 연결체는 여러 개의 연결체를 받아 들여,\n",
    "각각 하나씩 질문과 답변을 가집니다.\n",
    "이것의 시각적 설명을 보려면 슬라이드에서 보실 수 있는 그림을 참조하세요,\n",
    "여기서 한 개의 연결체가\n",
    "다른 연결체 뒤에 오도록 배치되어 있습니다.\n",
    "여기서 우리는 순차적 연결체의 시각적 설명을 볼 수 있습니다.\n",
    "위에 있는 연결체와 비교해서 어느\n",
    "연결체 단계에서든지 여러 개의 입력 변수들을 가져올 수 있다는 점에 유념하세요.\n",
    "복잡한 다운스트림\n",
    "연결체가 필요하고 그것이 여러 개의\n",
    "전 단계 연결체들로 구성되어야 할 때 유용합니다.\n",
    "\n",
    "모든 이러한 연결체들이 준비되면, 우리는 쉽게 그것들을 순차적 연결체에 결합할 수 있습니다. 여기서 당신은 우리가 위에서 만든 네 개의 연결체들을\n",
    "연결 변수로 전달하는 것을 알아챌 수 있습니다. 우리는 입력 변수를 하나의 인간 입력, 즉 리뷰와 함께 생성합니다.\n",
    "그리고 나서 모든 중간 출력을 반환하려고 합니다.\n",
    "따라서 영어 리뷰, 요약문, 그리고 후속 메시지 등입니다.\n",
    "\n",
    "이제 이것을 어떤 데이터 위에서 실행할 수 있습니다.\n",
    "따라서 리뷰를 선택하고 전반적인 체인을 통해 그것을 전달합시다.\n",
    "여기서 원래의 리뷰가\n",
    "프랑스어로 보입니다.\n",
    "우리는 번역된 영어 리뷰를 볼 수 있으며, 그 리뷰의 요약문과 원래 언어인 프랑스어로 된 후속\n",
    "메시지를 볼 수 있습니다.\n",
    "\n",
    "당신은 여기에서 비디오를 잠시 멈추고 다른 입력값들을 넣어보아야 합니다. 지금까지 우리는 LLM 체인과 순차 체인에 대해 다루었습니다. 하지만 더 복잡한 작업을 해야 한다면 어떻게 해야 할까요?"
   ]
  },
  {
   "cell_type": "markdown",
   "id": "f747fdf9",
   "metadata": {},
   "source": [
    "## Router Chain"
   ]
  },
  {
   "cell_type": "markdown",
   "id": "fef8ce23",
   "metadata": {},
   "source": [
    "매우 일반적이지만 기본적인 작업은\n",
    "입력에 딱 맞는 체인으로 입력값들을 라우팅하는 것입니다.\n",
    "이것은 여러 개의 하위 체인 간에 라우팅하는 것으로 상상할 수 있는 좋은 방법으로, 각각이 특정 타입의 입력에 특화되어 있다면,\n",
    "당신은 라우터 체인이 어느 하위 체인으로 전달해야 하는지 먼저 결정하도록 만들 수 있으며, 그럼 이후 해당 체인으로 전달됩니다."
   ]
  },
  {
   "cell_type": "code",
   "execution_count": 23,
   "id": "a72c938f",
   "metadata": {},
   "outputs": [],
   "source": [
    "physics_template = \"\"\"You are a very smart physics professor. \\\n",
    "You are great at answering questions about physics in a concise\\\n",
    "and easy to understand manner. \\\n",
    "When you don't know the answer to a question you admit\\\n",
    "that you don't know.\n",
    "\n",
    "Here is a question:\n",
    "{input}\"\"\"\n",
    "\n",
    "\n",
    "math_template = \"\"\"You are a very good mathematician. \\\n",
    "You are great at answering math questions. \\\n",
    "You are so good because you are able to break down \\\n",
    "hard problems into their component parts, \n",
    "answer the component parts, and then put them together\\\n",
    "to answer the broader question.\n",
    "\n",
    "Here is a question:\n",
    "{input}\"\"\"\n",
    "\n",
    "history_template = \"\"\"You are a very good historian. \\\n",
    "You have an excellent knowledge of and understanding of people,\\\n",
    "events and contexts from a range of historical periods. \\\n",
    "You have the ability to think, reflect, debate, discuss and \\\n",
    "evaluate the past. You have a respect for historical evidence\\\n",
    "and the ability to make use of it to support your explanations \\\n",
    "and judgements.\n",
    "\n",
    "Here is a question:\n",
    "{input}\"\"\"\n",
    "\n",
    "\n",
    "computerscience_template = \"\"\" You are a successful computer scientist.\\\n",
    "You have a passion for creativity, collaboration,\\\n",
    "forward-thinking, confidence, strong problem-solving capabilities,\\\n",
    "understanding of theories and algorithms, and excellent communication \\\n",
    "skills. You are great at answering coding questions. \\\n",
    "You are so good because you know how to solve a problem by \\\n",
    "describing the solution in imperative steps \\\n",
    "that a machine can easily interpret and you know how to \\\n",
    "choose a solution that has a good balance between \\\n",
    "time complexity and space complexity. \n",
    "\n",
    "Here is a question:\n",
    "{input}\"\"\""
   ]
  },
  {
   "cell_type": "markdown",
   "id": "fb5a90cf",
   "metadata": {},
   "source": [
    "구체적 예제로 보자면 주제에 따라 다른 유형의 연결체 사이에서 경로를 설정한다고 가정해보세요. 여기에서 서로 다른 프롬프트가 있는데요, 한 프롬프트는 물리학에 관한 질문에 대답하는데 좋고, 두 번째 프롬프트는 수학 질문에 대답하는데 좋으며, 세 번째는 역사, 그리고 네 번째는 컴퓨터 과학에 대한 것입니다. 이러한 프롬프트 템플릿을 모두 정의해 봅시다."
   ]
  },
  {
   "cell_type": "code",
   "execution_count": 24,
   "id": "5d30ae83",
   "metadata": {},
   "outputs": [],
   "source": [
    "prompt_infos = [\n",
    "    {\n",
    "        \"name\": \"physics\", \n",
    "        \"description\": \"Good for answering questions about physics\", \n",
    "        \"prompt_template\": physics_template\n",
    "    },\n",
    "    {\n",
    "        \"name\": \"math\", \n",
    "        \"description\": \"Good for answering math questions\", \n",
    "        \"prompt_template\": math_template\n",
    "    },\n",
    "    {\n",
    "        \"name\": \"History\", \n",
    "        \"description\": \"Good for answering history questions\", \n",
    "        \"prompt_template\": history_template\n",
    "    },\n",
    "    {\n",
    "        \"name\": \"computer science\", \n",
    "        \"description\": \"Good for answering computer science questions\", \n",
    "        \"prompt_template\": computerscience_template\n",
    "    }\n",
    "]"
   ]
  },
  {
   "cell_type": "markdown",
   "id": "d5a0de6a",
   "metadata": {},
   "source": [
    "각각의 프롬프트 템플릿은 이름과 설명을 포함합니다. 예를 들어, 물리학에 대한 설명은 \"물리학 질문에 대답하는 것\"입니다. 이 정보는 라우터 체인이 어느 하위 체인을 사용할지 결정하는 데 사용됩니다.\n",
    "\n",
    "다른 유형의 체인들도 필요합니다. 여기서 필요한 것은 멀티-프롬프트 체인입니다.\n",
    "멀티-프롬프트 체인은 여러 개의 다른 프롬프트 템플릿 사이에서 경로를 설정할 때 사용되는 특정 유형의 체인입니다.\n",
    "하지만 이것은 당신이 경로 설정 가능한 한 가지 유형일 뿐입니다.\n",
    "당신은 언제든지 양쪽 모두가 연결체라면 양쪽 간에 경로를 설정할 수 있습니다.\n",
    "\n",
    "LLM(언어 모델)라우터 연결체도 가져와야 합니다.\n",
    "LLM(언어 모델)라우터 연결체는 언어 모델 자체를 사용하여\n",
    "다른 하위 연결체 사이에서 경로를 설정합니다. 이곳에서 위에서 제공된 설명과 이름이 사용됩니다."
   ]
  },
  {
   "cell_type": "code",
   "execution_count": 25,
   "id": "e1e5afc2",
   "metadata": {},
   "outputs": [],
   "source": [
    "from langchain.chains.router import MultiPromptChain\n",
    "from langchain.chains.router.llm_router import LLMRouterChain,RouterOutputParser\n",
    "from langchain.prompts import PromptTemplate"
   ]
  },
  {
   "cell_type": "code",
   "execution_count": 26,
   "id": "8e42098b",
   "metadata": {},
   "outputs": [],
   "source": [
    "llm = ChatOpenAI(temperature=0)"
   ]
  },
  {
   "cell_type": "markdown",
   "id": "a5032ec6",
   "metadata": {},
   "source": [
    "우선, 우리가 사용할 언어 모델을 가져오고 정의합니다.\n",
    "\n",
    "그런 다음 목적지 연결체들(라우터 체인에 의해 호출될) 을 생성합니다. 보시다시피, 각 목적지 연결체 자체가 LLM(언어 모델) 연결체 입니다."
   ]
  },
  {
   "cell_type": "code",
   "execution_count": 27,
   "id": "5ff1bc5f",
   "metadata": {},
   "outputs": [],
   "source": [
    "\n",
    "destination_chains = {}\n",
    "for p_info in prompt_infos:\n",
    "    name = p_info[\"name\"]\n",
    "    prompt_template = p_info[\"prompt_template\"]\n",
    "    prompt = ChatPromptTemplate.from_template(template=prompt_template)\n",
    "    chain = LLMChain(llm=llm, prompt=prompt)\n",
    "    destination_chains[name] = chain  \n",
    "    \n",
    "destinations = [f\"{p['name']}: {p['description']}\" for p in prompt_infos]\n",
    "destinations_str = \"\\n\".join(destinations)"
   ]
  },
  {
   "cell_type": "markdown",
   "id": "61f03773",
   "metadata": {},
   "source": [
    "목적지 연결체 외에도 기본(default)연결체도 필요합니다. 이것은 라우터가 어느 하위 연결체를 사용해야 할지 결정할 수 없을 때 호출되는 연결체입니다. 위의 예제에서 이것은 입력 질문이 물리학, 수학, 역사, 컴퓨터 과학과 관련이 없을 때 호출될 것입니다.\n",
    "\n",
    "그런 다음 LLM이 다른 체인 사이에서 경로를 설정하는데 사용하는 템플릿을 정의합니다.\n",
    "여기에는 수행할 작업에 대한 지시사항과 출력 형식이 포함되어 있습니다.\n",
    "\n",
    "몇 가지 조각들을 모아 라우터 체인을 만들어 보겠습니다."
   ]
  },
  {
   "cell_type": "code",
   "execution_count": 28,
   "id": "07c2d9b7",
   "metadata": {},
   "outputs": [],
   "source": [
    "default_prompt = ChatPromptTemplate.from_template(\"{input}\")\n",
    "default_chain = LLMChain(llm=llm, prompt=default_prompt)"
   ]
  },
  {
   "cell_type": "markdown",
   "id": "64e4b538",
   "metadata": {},
   "source": [
    "첫째, 위에서 정의한 목적지와 함께 템플릿을 형식화하여 전체 라우터 템플릿을 생성합니다. 이 템플릿은 여러 다른 유형의 목적지에 유연하게 적용됩니다.\n",
    "여기서 할 수 있는 일 중 하나는 잠시 멈추고 다른 종류의 목적지를 추가하는 것입니다.\n",
    "따라서 여기서 물리학, 수학, 역사, 컴퓨터 과학 외에도 영어나 라틴어와 같은 다른 주제를 추가할 수 있습니다."
   ]
  },
  {
   "cell_type": "markdown",
   "id": "34a10d4a",
   "metadata": {},
   "source": [
    "라우터 체인을 만들기 위해 이제 필요한 모든 요소들이 준비되었습니다. 우리는 LLM 라우터 체인을 생성하고, 목적지 연결체, 기본 연결체, 그리고 라우터 템플릿을 전달합니다. 이렇게 하면 우리는 입력에 따라 다른 하위 체인으로 경로를 설정할 수 있는 라우터 체인을 가지게 됩니다."
   ]
  },
  {
   "cell_type": "code",
   "execution_count": 29,
   "id": "9f6f6fe5",
   "metadata": {},
   "outputs": [],
   "source": [
    "MULTI_PROMPT_ROUTER_TEMPLATE = \"\"\"Given a raw text input to a \\\n",
    "language model select the model prompt best suited for the input. \\\n",
    "You will be given the names of the available prompts and a \\\n",
    "description of what the prompt is best suited for. \\\n",
    "You may also revise the original input if you think that revising\\\n",
    "it will ultimately lead to a better response from the language model.\n",
    "\n",
    "<< FORMATTING >>\n",
    "Return a markdown code snippet with a JSON object formatted to look like:\n",
    "```json\n",
    "{{{{\n",
    "    \"destination\": string \\ name of the prompt to use or \"DEFAULT\"\n",
    "    \"next_inputs\": string \\ a potentially modified version of the original input\n",
    "}}}}\n",
    "```\n",
    "\n",
    "REMEMBER: \"destination\" MUST be one of the candidate prompt \\\n",
    "names specified below OR it can be \"DEFAULT\" if the input is not\\\n",
    "well suited for any of the candidate prompts.\n",
    "REMEMBER: \"next_inputs\" can just be the original input \\\n",
    "if you don't think any modifications are needed.\n",
    "\n",
    "<< CANDIDATE PROMPTS >>\n",
    "{destinations}\n",
    "\n",
    "<< INPUT >>\n",
    "{{input}}\n",
    "\n",
    "<< OUTPUT (remember to include the ```json)>>\"\"\""
   ]
  },
  {
   "cell_type": "markdown",
   "id": "375b952d",
   "metadata": {},
   "source": [
    "그럼 이제 이것이 어떻게 작동하는지 확인해봅시다. 예를 들어 \"물리학\"에 관한 질문을 하면, 라우터 체인은 입력 질문의 내용에 따라 적절한 목적지 연결체를 선택하고 그 연결체로 질문을 전달합니다."
   ]
  },
  {
   "cell_type": "code",
   "execution_count": 30,
   "id": "3333c986",
   "metadata": {},
   "outputs": [],
   "source": [
    "router_template = MULTI_PROMPT_ROUTER_TEMPLATE.format(\n",
    "    destinations=destinations_str\n",
    ")\n",
    "router_prompt = PromptTemplate(\n",
    "    template=router_template,\n",
    "    input_variables=[\"input\"],\n",
    "    output_parser=RouterOutputParser(),\n",
    ")\n",
    "\n",
    "router_chain = LLMRouterChain.from_llm(llm, router_prompt)"
   ]
  },
  {
   "cell_type": "code",
   "execution_count": 31,
   "id": "30064187",
   "metadata": {},
   "outputs": [],
   "source": [
    "chain = MultiPromptChain(router_chain=router_chain, \n",
    "                         destination_chains=destination_chains, \n",
    "                         default_chain=default_chain, verbose=True\n",
    "                        )"
   ]
  },
  {
   "cell_type": "code",
   "execution_count": 32,
   "id": "ed8c1ddc",
   "metadata": {},
   "outputs": [
    {
     "name": "stdout",
     "output_type": "stream",
     "text": [
      "\n",
      "\n",
      "\u001b[1m> Entering new MultiPromptChain chain...\u001b[0m\n",
      "physics: {'input': 'What is black body radiation?'}\n",
      "\u001b[1m> Finished chain.\u001b[0m\n"
     ]
    },
    {
     "data": {
      "text/plain": [
       "\"Black body radiation refers to the electromagnetic radiation emitted by a perfect black body, which is an object that absorbs all radiation that falls on it and emits radiation at all wavelengths. The radiation emitted by a black body depends only on its temperature and follows a specific distribution known as Planck's law. This type of radiation is important in understanding the behavior of stars, as well as in the development of technologies such as incandescent light bulbs and infrared cameras.\""
      ]
     },
     "execution_count": 32,
     "metadata": {},
     "output_type": "execute_result"
    }
   ],
   "source": [
    "chain.run(\"What is black body radiation?\")"
   ]
  },
  {
   "cell_type": "code",
   "execution_count": 33,
   "id": "76eb7d93",
   "metadata": {},
   "outputs": [
    {
     "name": "stdout",
     "output_type": "stream",
     "text": [
      "\n",
      "\n",
      "\u001b[1m> Entering new MultiPromptChain chain...\u001b[0m\n",
      "math: {'input': 'what is 2 + 2'}\n",
      "\u001b[1m> Finished chain.\u001b[0m\n"
     ]
    },
    {
     "data": {
      "text/plain": [
       "'As an AI language model, I can answer this question easily. The answer to 2 + 2 is 4.'"
      ]
     },
     "execution_count": 33,
     "metadata": {},
     "output_type": "execute_result"
    }
   ],
   "source": [
    "chain.run(\"what is 2 + 2\")"
   ]
  },
  {
   "cell_type": "code",
   "execution_count": 34,
   "id": "b60e97d9",
   "metadata": {},
   "outputs": [
    {
     "name": "stdout",
     "output_type": "stream",
     "text": [
      "\n",
      "\n",
      "\u001b[1m> Entering new MultiPromptChain chain...\u001b[0m\n",
      "None: {'input': 'Why does every cell in our body contain DNA?'}\n",
      "\u001b[1m> Finished chain.\u001b[0m\n"
     ]
    },
    {
     "data": {
      "text/plain": [
       "'Every cell in our body contains DNA because DNA carries the genetic information that determines the characteristics and functions of each cell. DNA contains the instructions for the synthesis of proteins, which are essential for the structure and function of cells. Additionally, DNA is responsible for the transmission of genetic information from one generation to the next. Therefore, every cell in our body needs DNA to carry out its specific functions and to maintain the integrity of the organism as a whole.'"
      ]
     },
     "execution_count": 34,
     "metadata": {},
     "output_type": "execute_result"
    }
   ],
   "source": [
    "chain.run(\"Why does every cell in our body contain DNA?\")"
   ]
  },
  {
   "cell_type": "code",
   "execution_count": null,
   "id": "533084ab",
   "metadata": {},
   "outputs": [],
   "source": []
  },
  {
   "cell_type": "markdown",
   "id": "acd9fa2d",
   "metadata": {},
   "source": [
    "그러나 만약 \"음악\"과 관련된 질문을 한다면 어떻게 될까요? 우리의 경우에서는 음악과 관련된 목적지가 없습니다. 따라서 라우터 체인은 기본 연결체로 경로를 설정할 것입니다.\n",
    "\n",
    "여기서 중요한 점은 라우팅 로직이 상당히 유연하다는 것입니다. 당신은 자신만의 로직을 정의하거나 다양한 유형의 입력에 대응하는 여러 개의 하위 체인들 사이에서 경로를 설정할 수 있습니다.\n",
    "\n",
    "많은 경우에서 복잡한 워크플로우는 여러 개의 순차적 및 병렬 연결체와 함께 사용되며, 각각이 서로 다른 유형의 작업에 최적화되어 있습니다. 당신은 이러한 도구들을 사용하여 매우 복잡하지만 강력한 워크플로우를 구축할 수 있습니다.\n",
    "\n",
    "그럼 지금까지 설명드린 내용으로 충분히 흥미롭다면, 당신도 자신만의 LLM 체인과 순차/병렬/라우터 체인 등을 만들어보세요!"
   ]
  },
  {
   "cell_type": "markdown",
   "id": "effcf658",
   "metadata": {},
   "source": []
  }
 ],
 "metadata": {
  "kernelspec": {
   "display_name": "Python 3 (ipykernel)",
   "language": "python",
   "name": "python3"
  },
  "language_info": {
   "codemirror_mode": {
    "name": "ipython",
    "version": 3
   },
   "file_extension": ".py",
   "mimetype": "text/x-python",
   "name": "python",
   "nbconvert_exporter": "python",
   "pygments_lexer": "ipython3",
   "version": "3.11.3"
  }
 },
 "nbformat": 4,
 "nbformat_minor": 5
}
